{
 "cells": [
  {
   "cell_type": "markdown",
   "metadata": {},
   "source": [
    "<h3>Previsão dos Sobreviventes do Titanic com Aprendizado Supervisionado</h3>\n",
    "<p>Descrição das colunas:</p>\n",
    "<ul>\n",
    "    <li><b>PassengerId:</b> identificador sequencial.</li>\n",
    "    <li><b>Survived:</b> 0 = não sobreviveu, 1 = sobreviveu.</li>\n",
    "    <li><b>Pclass:</b> código da classe.</li>\n",
    "    <li><b>Name:</b> nome do passageiro.</li>\n",
    "    <li><b>Sex:</b> sexo do passageiro.</li>\n",
    "    <li><b>Age:</b> idade do passageiro em anos.</li>\n",
    "    <li><b>SibSp:</b> número de irmãos/cônjuges a bordo.</li>\n",
    "    <li><b>Parch:</b> número de pais/filhos a bordo.</li>\n",
    "    <li><b>Ticket:</b> código do bilhete.</li>\n",
    "    <li><b>Fare:</b> tarifa do passageiro em dólares.</li>\n",
    "    <li><b>Cabin:</b> código da cabine de hospedagem.</li>\n",
    "    <li><b>Embarked:</b> código do porto onde o passageiro embarcou.</li>\n",
    "</ul>"
   ]
  },
  {
   "cell_type": "markdown",
   "metadata": {},
   "source": [
    "<h4>Exploração dos Dados</h4>"
   ]
  },
  {
   "cell_type": "markdown",
   "metadata": {},
   "source": [
    "<p align=\"justify\">O método visualization_csv_inline recebe o endereço do arquivo a ser visualizado em url_path, as colunas mostradas na visualização em titles e o limite de linhas em limit.</p>"
   ]
  },
  {
   "cell_type": "code",
   "execution_count": 23,
   "metadata": {},
   "outputs": [
    {
     "name": "stdout",
     "output_type": "stream",
     "text": [
      "╒══════════╤═════════════════════════════════════════════════════╤════════╤═══════╤═════════╤═════════╤══════════════════╤═══════════╤═════════╤════════════╤════════════╕\n",
      "│   Pclass │ Name                                                │ Sex    │   Age │   SibSp │   Parch │ Ticket           │      Fare │ Cabin   │ Embarked   │   Survived │\n",
      "╞══════════╪═════════════════════════════════════════════════════╪════════╪═══════╪═════════╪═════════╪══════════════════╪═══════════╪═════════╪════════════╪════════════╡\n",
      "│        3 │ Braund. Mr. Owen Harris                             │ male   │    22 │       1 │       0 │ A/5 21171        │    7.25   │         │ S          │          0 │\n",
      "├──────────┼─────────────────────────────────────────────────────┼────────┼───────┼─────────┼─────────┼──────────────────┼───────────┼─────────┼────────────┼────────────┤\n",
      "│        1 │ Cumings. Mrs. John Bradley (Florence Briggs Thayer) │ female │    38 │       1 │       0 │ PC 17599         │   71.2833 │ C85     │ C          │          1 │\n",
      "├──────────┼─────────────────────────────────────────────────────┼────────┼───────┼─────────┼─────────┼──────────────────┼───────────┼─────────┼────────────┼────────────┤\n",
      "│        3 │ Heikkinen. Miss. Laina                              │ female │    26 │       0 │       0 │ STON/O2. 3101282 │ 7925      │         │ S          │          1 │\n",
      "├──────────┼─────────────────────────────────────────────────────┼────────┼───────┼─────────┼─────────┼──────────────────┼───────────┼─────────┼────────────┼────────────┤\n",
      "│        1 │ Futrelle. Mrs. Jacques Heath (Lily May Peel)        │ female │    35 │       1 │       0 │ 113803           │   53.1    │ C123    │ S          │          1 │\n",
      "├──────────┼─────────────────────────────────────────────────────┼────────┼───────┼─────────┼─────────┼──────────────────┼───────────┼─────────┼────────────┼────────────┤\n",
      "│        3 │ Allen. Mr. William Henry                            │ male   │    35 │       0 │       0 │ 373450           │    8.05   │         │ S          │          0 │\n",
      "╘══════════╧═════════════════════════════════════════════════════╧════════╧═══════╧═════════╧═════════╧══════════════════╧═══════════╧═════════╧════════════╧════════════╛\n"
     ]
    },
    {
     "data": {
      "text/plain": [
       "True"
      ]
     },
     "execution_count": 23,
     "metadata": {},
     "output_type": "execute_result"
    }
   ],
   "source": [
    "url_train, url_test, url_label = 'titanic/train.csv', 'titanic/test.csv', 'titanic/gender_submission.csv' # endereços dos arquivos utilizados\n",
    "from Neuraline.Utilities.data import DataTable # importação da classe de manipulação de dados tabulares\n",
    "data_table = DataTable() # instanciação do objeto de manipulação de dados tabulares\n",
    "titles = ['Pclass', 'Name', 'Sex', 'Age', 'SibSp', 'Parch', 'Ticket', 'Fare', 'Cabin', 'Embarked', 'Survived'] # lista com os nomes das colunas que serão exibidas\n",
    "data_table.visualization_csv_inline(url_path=url_train, titles=titles, limit=5) # visualiza a tabela com as colunas definidas na linha de cima"
   ]
  },
  {
   "cell_type": "markdown",
   "metadata": {},
   "source": [
    "<h4>Treinamento do Modelo</h4>\n",
    "<p align=\"justify\">O método fitCSV recebe o endereço do arquivo de trainamento em url_path os nomes da colunas de entrada em list_inputs e os nomes das colunas de saída em list_outputs.</p>"
   ]
  },
  {
   "cell_type": "code",
   "execution_count": 24,
   "metadata": {},
   "outputs": [
    {
     "data": {
      "text/plain": [
       "True"
      ]
     },
     "execution_count": 24,
     "metadata": {},
     "output_type": "execute_result"
    }
   ],
   "source": [
    "list_inputs, list_outputs = ['Pclass', 'Sex', 'Age', 'Cabin', 'SibSp', 'Parch'], ['Survived'] # listas com as colunas que formarão os dados de entrada e saída do treinamento\n",
    "from Neuraline.ArtificialIntelligence.MachineLearning.SupervisedLearning.k_nearest_neighbors import KNearestNeighbors # importação do algoritmo que será utilizado\n",
    "k_nearest_neighbors = KNearestNeighbors() # instanciação do objeto do algoritmo\n",
    "k_nearest_neighbors.fitCSV(url_path=url_train, list_inputs=list_inputs, list_outputs=list_outputs) # treinamento do modelo através do arquivo CSV de treino"
   ]
  },
  {
   "cell_type": "markdown",
   "metadata": {},
   "source": [
    "<h4>Teste do Modelo</h4>\n",
    "<p align=\"justify\">O método test recebe no primeiro parâmetro as entradas que serão testadas e no segundo parâmetro as saídas esperadas para essas entradas.</p>"
   ]
  },
  {
   "cell_type": "code",
   "execution_count": 29,
   "metadata": {},
   "outputs": [],
   "source": [
    "test_inputs, test_outputs = data_table.read_csv(url_path=url_test, titles=list_inputs), data_table.read_csv(url_path=url_label, titles=list_outputs) # lista do teste\n",
    "test_result = k_nearest_neighbors.test(inputs=test_inputs, outputs=test_outputs) # execução do teste de assertividade"
   ]
  },
  {
   "cell_type": "code",
   "execution_count": 30,
   "metadata": {},
   "outputs": [
    {
     "data": {
      "text/plain": [
       "{'assertiveness': 0.8110047846889952, 'error': 0.18899521531100483}"
      ]
     },
     "execution_count": 30,
     "metadata": {},
     "output_type": "execute_result"
    }
   ],
   "source": [
    "test_result # exibição do resultado probabilístico do teste"
   ]
  },
  {
   "cell_type": "markdown",
   "metadata": {},
   "source": [
    "<h4>Visualização Gráfica do Teste</h4>"
   ]
  },
  {
   "cell_type": "markdown",
   "metadata": {},
   "source": [
    "<p align=\"justify\">O método plotBAR recebe a lista com os valores do eixo X, a lista com os valores do eixo Y a descrição dos eixos X e Y, o título descritivo do gráfico e no parâmetro bar_values recebe um booleano que indicará se os valores do gráfico deverão ou não serem exibidos nas suas respectivas barras.</p>"
   ]
  },
  {
   "cell_type": "code",
   "execution_count": 31,
   "metadata": {},
   "outputs": [
    {
     "data": {
      "image/png": "[encoded data removed]",
      "text/plain": [
       "<Figure size 576x288 with 1 Axes>"
      ]
     },
     "metadata": {
      "needs_background": "light"
     },
     "output_type": "display_data"
    }
   ],
   "source": [
    "from Neuraline.Utilities.chart import Chart # importação da classe para manipulação de gráficos\n",
    "chart = Chart() # instanciação do objeto de manipulação de gráficos\n",
    "x, y = list(test_result.keys()), [y*100 for y in list(test_result.values())] # valores dos eixos X e Y do gráfico\n",
    "chart.plotBAR(x=x, y=y, x_label='Acertos VS Erros', y_label='Percentual %', title='Teste de Assertividade', bar_values=True) # exibição do gráfico de probabilidades"
   ]
  }
 ],
 "metadata": {
  "kernelspec": {
   "display_name": "Python 3.10.4 64-bit",
   "language": "python",
   "name": "python3"
  },
  "language_info": {
   "codemirror_mode": {
    "name": "ipython",
    "version": 3
   },
   "file_extension": ".py",
   "mimetype": "text/x-python",
   "name": "python",
   "nbconvert_exporter": "python",
   "pygments_lexer": "ipython3",
   "version": "3.10.4"
  },
  "orig_nbformat": 4,
  "vscode": {
   "interpreter": {
    "hash": "916dbcbb3f70747c44a77c7bcd40155683ae19c65e1c03b4aa3499c5328201f1"
   }
  }
 },
 "nbformat": 4,
 "nbformat_minor": 2
}
