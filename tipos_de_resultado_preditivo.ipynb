{
 "cells": [
  {
   "cell_type": "markdown",
   "metadata": {},
   "source": [
    "<h3>Manipulação do Tipo de Resultado Preditivo</h3>"
   ]
  },
  {
   "cell_type": "markdown",
   "metadata": {},
   "source": [
    "<h4>K-Nearest Neighbors</h4>\n",
    "Método <b>fit</b>:\n",
    "<ul>\n",
    "    <li><b>k:</b> número de vizinhos mais próximos da entrada mais próxima.</li>\n",
    "</ul>\n",
    "Método <b>predict</b>:\n",
    "<ul>\n",
    "    <li><b>regression:</b> se estiver como False ou não declarado retornará resultados classificativos, se estiver como True retornará resultados regressivos.</li>\n",
    "</ul>"
   ]
  },
  {
   "cell_type": "code",
   "execution_count": 66,
   "metadata": {},
   "outputs": [
    {
     "name": "stdout",
     "output_type": "stream",
     "text": [
      "resultado classificativo: [[0], [1]]\n",
      "resultado regressivo: [[0.5], [0.5]]\n"
     ]
    }
   ],
   "source": [
    "from Neuraline.ArtificialIntelligence.MachineLearning.SupervisedLearning.k_nearest_neighbors import KNearestNeighbors\n",
    "k_nearest_neighbors = KNearestNeighbors()\n",
    "inputs = [[1, 2], [10, 20], [3, 4], [30, 40], [5, 6], [50, 60], [7, 8], [70, 80]]\n",
    "outputs = [[0], [1], [0], [1], [0], [1], [0], [1]]\n",
    "new_inputs = [[2, 3], [20, 30]]\n",
    "k_nearest_neighbors.fit(inputs=inputs, outputs=outputs, k=2)\n",
    "classification = k_nearest_neighbors.predict(inputs=new_inputs, regression=False)\n",
    "regression = k_nearest_neighbors.predict(inputs=new_inputs, regression=True)\n",
    "print(f'resultado classificativo: {classification}')\n",
    "print(f'resultado regressivo: {regression}')"
   ]
  },
  {
   "cell_type": "markdown",
   "metadata": {},
   "source": [
    "<h4>Naive Bayes</h4>\n",
    "Método <b>fit</b>:\n",
    "<ul>\n",
    "    <li><b>classify:</b> se estiver como False ou não declarado retornará resultados probabilísticos, se estiver como True retornará resultados classificativos.</li>\n",
    "</ul>"
   ]
  },
  {
   "cell_type": "code",
   "execution_count": 67,
   "metadata": {},
   "outputs": [
    {
     "name": "stdout",
     "output_type": "stream",
     "text": [
      "resultado classificativo: [[0], [1]]\n",
      "resultado probabilístico: [{0: 1.0, 1: 0.0, 'classify': 0}, {0: 0.0, 1: 1.0, 'classify': 1}]\n"
     ]
    }
   ],
   "source": [
    "from Neuraline.ArtificialIntelligence.MachineLearning.SupervisedLearning.naive_bayes import NaiveBayes\n",
    "naive_bayes = NaiveBayes()\n",
    "inputs = [[1, 2], [10, 20], [3, 4], [30, 40], [5, 6], [50, 60], [7, 8], [70, 80]]\n",
    "outputs = [[0], [1], [0], [1], [0], [1], [0], [1]]\n",
    "new_inputs = [[2, 3], [20, 30]]\n",
    "naive_bayes.fit(inputs=inputs, outputs=outputs, classify=True)\n",
    "classification = naive_bayes.predict(inputs=new_inputs)\n",
    "naive_bayes.fit(inputs=inputs, outputs=outputs, classify=False)\n",
    "probabilistic = naive_bayes.predict(inputs=new_inputs)\n",
    "print(f'resultado classificativo: {classification}')\n",
    "print(f'resultado probabilístico: {probabilistic}')"
   ]
  },
  {
   "cell_type": "markdown",
   "metadata": {},
   "source": [
    "<h4>Gaussian Processes</h4>\n",
    "Método <b>predict</b>:\n",
    "<ul>\n",
    "    <li><b>regression:</b> se estiver como False ou não declarado retornará resultados classificativos com probabilidade, se estiver como True retornará resultados regressivos com probabilidade.</li>\n",
    "</ul>"
   ]
  },
  {
   "cell_type": "code",
   "execution_count": 68,
   "metadata": {},
   "outputs": [
    {
     "name": "stdout",
     "output_type": "stream",
     "text": [
      "resultado classificativo: [{'classification': [0], 'probability': 0.5833333333333334}, {'classification': [1], 'probability': 0.5833333333333334}]\n",
      "resultado regressivo: [{'regression': [0.5], 'probability': 0.5}, {'regression': [0.5], 'probability': 0.5}]\n"
     ]
    }
   ],
   "source": [
    "from Neuraline.ArtificialIntelligence.MachineLearning.SupervisedLearning.gaussian_processes import GaussianProcesses\n",
    "gaussian_processes = GaussianProcesses()\n",
    "inputs = [[1, 2], [10, 20], [3, 4], [30, 40], [5, 6], [50, 60], [7, 8], [70, 80]]\n",
    "outputs = [[0], [1], [0], [1], [0], [1], [0], [1]]\n",
    "new_inputs = [[2, 3], [20, 30]]\n",
    "gaussian_processes.fit(inputs=inputs, outputs=outputs)\n",
    "classification = gaussian_processes.predict(inputs=new_inputs, regression=False)\n",
    "regression = gaussian_processes.predict(inputs=new_inputs, regression=True)\n",
    "print(f'resultado classificativo: {classification}')\n",
    "print(f'resultado regressivo: {regression}')"
   ]
  },
  {
   "cell_type": "markdown",
   "metadata": {},
   "source": [
    "<h4>Probabilistic KNN (K-Nearest Neighbors)</h4>\n",
    "Método <b>fit</b>:\n",
    "<ul>\n",
    "    <li><b>k:</b> número de vizinhos mais próximos da entrada mais próxima.</li>\n",
    "</ul>\n",
    "Método <b>predict</b>:\n",
    "<ul>\n",
    "    <li><b>gaussian:</b> se estiver como False ou não declarado retornará resultados com probabilidades comparativas, se estiver como True retornará resultados com probabilidade geral/gaussiana.</li>\n",
    "</ul>"
   ]
  },
  {
   "cell_type": "code",
   "execution_count": 69,
   "metadata": {},
   "outputs": [
    {
     "name": "stdout",
     "output_type": "stream",
     "text": [
      "resultado probabilístico: [{0: 0.736067684384771, 1: 0.263932315615229}, {1: 0.6381691832532601, 0: 0.36183081674673984}]\n",
      "resultado gaussiano: [{0: 0.8285714285714286}, {1: 0.8285714285714286}]\n"
     ]
    }
   ],
   "source": [
    "from Neuraline.ArtificialIntelligence.MachineLearning.SupervisedLearning.probabilistic_knn import ProbabilisticKNN\n",
    "probabilistic_knn = ProbabilisticKNN()\n",
    "inputs = [[1, 2], [10, 20], [3, 4], [30, 40], [5, 6], [50, 60], [7, 8], [70, 80]]\n",
    "outputs = [[0], [1], [0], [1], [0], [1], [0], [1]]\n",
    "new_inputs = [[2, 3], [20, 30]]\n",
    "probabilistic_knn.fit(inputs=inputs, outputs=outputs, k=0)\n",
    "probabilistic = probabilistic_knn.predict(inputs=new_inputs, gaussian=False)\n",
    "gaussian = probabilistic_knn.predict(inputs=new_inputs, gaussian=True)\n",
    "print(f'resultado probabilístico: {probabilistic}')\n",
    "print(f'resultado gaussiano: {gaussian}')"
   ]
  },
  {
   "cell_type": "markdown",
   "metadata": {},
   "source": [
    "<h4>Random Forest</h4>\n",
    "Método <b>fit</b>:\n",
    "<ul>\n",
    "    <li><b>number_of_trees:</b> número de árvores de decisão na floresta.</li>\n",
    "</ul>\n",
    "Método <b>predict</b>:\n",
    "<ul>\n",
    "    <li><b>regression:</b> se estiver como False ou não declarado retornará resultados classificativos, se estiver como True retornará resultados regressivos.</li>\n",
    "    <li><b>show_tree:</b> se estiver como False ou não declarado ocultará o progresso da predição, se estiver como True exibirá o progresso de montagem das árvores na predição.</li>\n",
    "</ul>"
   ]
  },
  {
   "cell_type": "code",
   "execution_count": 70,
   "metadata": {},
   "outputs": [
    {
     "name": "stdout",
     "output_type": "stream",
     "text": [
      "resultado classificativo: [[0], [1]]\n",
      "resultado regressivo: [[0.0], [1.4]]\n"
     ]
    }
   ],
   "source": [
    "from Neuraline.ArtificialIntelligence.MachineLearning.SupervisedLearning.random_forest import RandomForest\n",
    "random_forest = RandomForest()\n",
    "inputs = [[1, 2], [10, 20], [3, 4], [30, 40], [5, 6], [50, 60], [7, 8], [70, 80]]\n",
    "outputs = [[0], [1], [0], [1], [0], [1], [0], [1]]\n",
    "new_inputs = [[2, 3], [20, 30]]\n",
    "random_forest.fit(inputs=inputs, outputs=outputs, number_of_trees=3)\n",
    "classification = random_forest.predict(inputs=new_inputs, regression=False, show_tree=False)\n",
    "regression = random_forest.predict(inputs=new_inputs, regression=True, show_tree=False)\n",
    "print(f'resultado classificativo: {classification}')\n",
    "print(f'resultado regressivo: {regression}')"
   ]
  },
  {
   "cell_type": "markdown",
   "metadata": {},
   "source": [
    "<h4>Support Vector Machine</h4>\n",
    "Método <b>fit</b>:\n",
    "<ul>\n",
    "    <li><b>gamma:</b> quanto maior o número maior a diferença entre as classes.</li>\n",
    "</ul>\n",
    "Método <b>predict</b>:\n",
    "<ul>\n",
    "    <li><b>regression:</b> se estiver como False ou não declarado retornará resultados classificativos, se estiver como True retornará resultados regressivos.</li>\n",
    "</ul>"
   ]
  },
  {
   "cell_type": "code",
   "execution_count": 71,
   "metadata": {},
   "outputs": [
    {
     "name": "stdout",
     "output_type": "stream",
     "text": [
      "resultado classificativo: [[0], [1]]\n",
      "resultado regressivo: [[0], [0.5]]\n"
     ]
    }
   ],
   "source": [
    "from Neuraline.ArtificialIntelligence.MachineLearning.SupervisedLearning.support_vector_machine import SupportVectorMachine\n",
    "support_vector_machine = SupportVectorMachine()\n",
    "inputs = [[1, 2], [10, 20], [3, 4], [30, 40], [5, 6], [50, 60], [7, 8], [70, 80]]\n",
    "outputs = [[0], [1], [0], [1], [0], [1], [0], [1]]\n",
    "new_inputs = [[2, 3], [20, 30]]\n",
    "support_vector_machine.fit(inputs=inputs, outputs=outputs, gamma=2)\n",
    "classification = support_vector_machine.predict(inputs=new_inputs, regression=False)\n",
    "regression = support_vector_machine.predict(inputs=new_inputs, regression=True)\n",
    "print(f'resultado classificativo: {classification}')\n",
    "print(f'resultado regressivo: {regression}')"
   ]
  }
 ],
 "metadata": {
  "kernelspec": {
   "display_name": "Python 3 (ipykernel)",
   "language": "python",
   "name": "python3"
  },
  "language_info": {
   "codemirror_mode": {
    "name": "ipython",
    "version": 3
   },
   "file_extension": ".py",
   "mimetype": "text/x-python",
   "name": "python",
   "nbconvert_exporter": "python",
   "pygments_lexer": "ipython3",
   "version": "3.10.4"
  },
  "vscode": {
   "interpreter": {
    "hash": "916dbcbb3f70747c44a77c7bcd40155683ae19c65e1c03b4aa3499c5328201f1"
   }
  }
 },
 "nbformat": 4,
 "nbformat_minor": 2
}
